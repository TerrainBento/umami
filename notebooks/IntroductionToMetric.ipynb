{
 "cells": [
  {
   "cell_type": "markdown",
   "metadata": {},
   "source": [
    "# Part 1: Introduction to Umami and the `Metric` Class\n",
    "\n",
    "Umami is a package for calculating metrics for use with for Earth surface dynamics models. This notebook is the first half of a two-part introduction to using umami.\n",
    "\n",
    "Umami was designed to work well with the [terrainbento](https://terrainbento.readthedocs.io/en/latest/) model package, as well as other models built using the [Landlab Toolkit](https://github.com/landlab/landlab). \n",
    "\n",
    "## Scope of this tutorial\n",
    "\n",
    "In this tutorial you will learn the basic principles behind the umami package and use the `Metric` class to calculate terrain statistics. \n",
    "\n",
    "If you have comments or questions about the notebooks, the best place to get help is through [GitHub Issues](https://github.com/TerrainBento/umami/issues).\n",
    "\n",
    "To begin this example, we will import the required python packages. "
   ]
  },
  {
   "cell_type": "code",
   "execution_count": 1,
   "metadata": {},
   "outputs": [
    {
     "ename": "ModuleNotFoundError",
     "evalue": "No module named 'umami'",
     "output_type": "error",
     "traceback": [
      "\u001b[0;31m---------------------------------------------------------------------------\u001b[0m",
      "\u001b[0;31mModuleNotFoundError\u001b[0m                       Traceback (most recent call last)",
      "\u001b[0;32m<ipython-input-1-6ae86a672d39>\u001b[0m in \u001b[0;36m<module>\u001b[0;34m\u001b[0m\n\u001b[1;32m      4\u001b[0m \u001b[0;32mfrom\u001b[0m \u001b[0mio\u001b[0m \u001b[0;32mimport\u001b[0m \u001b[0mStringIO\u001b[0m\u001b[0;34m\u001b[0m\u001b[0;34m\u001b[0m\u001b[0m\n\u001b[1;32m      5\u001b[0m \u001b[0;32mfrom\u001b[0m \u001b[0mlandlab\u001b[0m \u001b[0;32mimport\u001b[0m \u001b[0mRasterModelGrid\u001b[0m\u001b[0;34m,\u001b[0m \u001b[0mimshow_grid\u001b[0m\u001b[0;34m\u001b[0m\u001b[0;34m\u001b[0m\u001b[0m\n\u001b[0;32m----> 6\u001b[0;31m \u001b[0;32mfrom\u001b[0m \u001b[0mumami\u001b[0m \u001b[0;32mimport\u001b[0m \u001b[0mMetric\u001b[0m\u001b[0;34m\u001b[0m\u001b[0;34m\u001b[0m\u001b[0m\n\u001b[0m\u001b[1;32m      7\u001b[0m \u001b[0;32mfrom\u001b[0m \u001b[0mumami\u001b[0m\u001b[0;34m.\u001b[0m\u001b[0mcalculations\u001b[0m \u001b[0;32mimport\u001b[0m \u001b[0maggregate\u001b[0m\u001b[0;34m\u001b[0m\u001b[0;34m\u001b[0m\u001b[0m\n",
      "\u001b[0;31mModuleNotFoundError\u001b[0m: No module named 'umami'"
     ]
    }
   ],
   "source": [
    "import warnings\n",
    "warnings.filterwarnings('ignore')\n",
    "\n",
    "from io import StringIO\n",
    "from landlab import RasterModelGrid, imshow_grid\n",
    "from umami import Metric\n",
    "from umami.calculations import aggregate"
   ]
  },
  {
   "cell_type": "markdown",
   "metadata": {},
   "source": [
    "## Step 1: Create an example grid\n",
    "First we will create an example grid and add a field called `topographic__elevation` to it. The grid shown here has a shape of (10x10) and slopes to the south-west.\n",
    "\n",
    "The Landlab grid is used as the core data structure for umami as it provides important information about grid size, shape, adjacency. It, however, is very flexible as it is compatible with regular and irregular grids and can be specified with a numpy array. "
   ]
  },
  {
   "cell_type": "code",
   "execution_count": null,
   "metadata": {},
   "outputs": [],
   "source": [
    "grid = RasterModelGrid((10, 10))\n",
    "z = grid.add_zeros(\"node\", \"topographic__elevation\")\n",
    "z += grid.x_of_node + grid.y_of_node\n",
    "\n",
    "imshow_grid(grid, z)"
   ]
  },
  {
   "cell_type": "markdown",
   "metadata": {},
   "source": [
    "## Step 2: Use the `umami.Metric` class\n",
    "\n",
    "Umami was designed to facilitate the calculation of topographic metrics for use in model analysis. For example, say one wanted to assess a model's performance based on the mean topography. On one hand, this can simply be done by evaluating `np.mean(z)` and writing the results out to an output file. \n",
    "\n",
    "However, if the set of metrics becomes more complex, then extensive analysis must occur in the driver script or function used to run the model and produce model analysis output. If one wanted to take multiple aggreggation statistics on a single field (e.g., `topographic__elevation`) and to also calculate other metrics, then using the umami package becomes competitive relative to hand-calculating a few metrics. \n",
    "\n",
    "To use the umami [`Metric`](https://umami.readthedocs.io/en/latest/umami.metric.html) class we need to pass a grid, such as that defined above, as well as a dictionary indicating what metrics we want calculated. Metrics can be added after instantiation, and can also be added using an input file in [YAML](https://yaml.org) format. \n",
    "\n",
    "Each calculation gets its own unique name (the key in the dictionary), and is associated with a value, a dictionary specifying exactly what should be calculated. The only value of the dictionary required by all umami calculations is `_func`, which indicates which of the [`umami.calculations`](https://umami.readthedocs.io/en/latest/umami.calculations.html) will be performed. Subsequent elements of this dictionary are the required inputs to the calculation function and are described in their documentation. \n",
    "\n",
    "Note that some calculations listed in the [`umami.calculations`](https://umami.readthedocs.io/en/latest/umami.calculations.html) submodule are valid for both the umami `Metric` and `Residual` classes, while others are for `Residual`s only (the `Residual` will be covered in [Part 2](IntroductionToResidual.ipynb) of this notebook series). \n",
    "\n",
    "The order that calculations are listed is read in as an [OrderedDict](https://docs.python.org/3/library/collections.html#collections.OrderedDict) and retained as the \"calculation order\". \n",
    "\n",
    "In our example we will use the following dictionary: \n",
    "\n",
    "```python\n",
    "metrics = {\n",
    "    \"me\": {\n",
    "        \"_func\": \"aggregate\",\n",
    "        \"method\": \"mean\",\n",
    "        \"field\": \"topographic__elevation\"\n",
    "    },\n",
    "    \"ep10\": {\n",
    "        \"_func\": \"aggregate\",\n",
    "        \"method\": \"percentile\",\n",
    "        \"field\": \"topographic__elevation\",\n",
    "        \"q\": 10\n",
    "    }\n",
    "}\n",
    "```\n",
    "This specifies calculation of the mean of `topographic__elevation` (to be called \"me\") and the 10th percentile `topographic__elevation` (called \"ep10\"). The equivalent portion of a YAML input file would look like:\n",
    "\n",
    "```yaml\n",
    "metrics:\n",
    "    me:\n",
    "        _func: aggregate\n",
    "        method: mean\n",
    "        field: topographic__elevation\n",
    "    ep10:\n",
    "        _func: aggregate\n",
    "        method: percentile\n",
    "        field: topographic__elevation\n",
    "        q: 10\n",
    "```\n",
    "\n",
    "Next, let's construct the Metric class. It is important to note that, the umami [`aggregate`](https://umami.readthedocs.io/en/latest/umami.calculations.metric.aggregate.html) function only operates on the core nodes of the model grid. Use the link above to read the API documentation that describes in detail what values the `aggreggate` calculation expects. "
   ]
  },
  {
   "cell_type": "code",
   "execution_count": null,
   "metadata": {},
   "outputs": [],
   "source": [
    "metrics = {\n",
    "    \"me\": {\n",
    "        \"_func\": \"aggregate\",\n",
    "        \"method\": \"mean\",\n",
    "        \"field\": \"topographic__elevation\"\n",
    "    },\n",
    "    \"ep10\": {\n",
    "        \"_func\": \"aggregate\",\n",
    "        \"method\": \"percentile\",\n",
    "        \"field\": \"topographic__elevation\",\n",
    "        \"q\": 10\n",
    "    }\n",
    "}\n",
    "\n",
    "metric = Metric(grid, metrics=metrics)"
   ]
  },
  {
   "cell_type": "markdown",
   "metadata": {},
   "source": [
    "The umami `Metric` does not calculate the metrics when it is instantiated. During instantiation, umami performs many checks, for example, ensuring that all needed fields are present on the grid. To calculate the metrics, run the `calculate` bound method. "
   ]
  },
  {
   "cell_type": "code",
   "execution_count": null,
   "metadata": {},
   "outputs": [],
   "source": [
    "metric.calculate()"
   ]
  },
  {
   "cell_type": "markdown",
   "metadata": {},
   "source": [
    "Now that the metrics have been calculated we highlight the most useful attributes of the `Metric class`.\n",
    "\n",
    "`metric.names` gives the names of the metrics as a list, in calculation order. "
   ]
  },
  {
   "cell_type": "code",
   "execution_count": null,
   "metadata": {},
   "outputs": [],
   "source": [
    "metric.names"
   ]
  },
  {
   "cell_type": "markdown",
   "metadata": {},
   "source": [
    "`metric.values` gives the values of the metrics as a list, in calculation order. "
   ]
  },
  {
   "cell_type": "code",
   "execution_count": null,
   "metadata": {},
   "outputs": [],
   "source": [
    "metric.values"
   ]
  },
  {
   "cell_type": "markdown",
   "metadata": {},
   "source": [
    "A function is available to get the value of a given metric, given a name."
   ]
  },
  {
   "cell_type": "code",
   "execution_count": null,
   "metadata": {},
   "outputs": [],
   "source": [
    "metric.value(\"me\")"
   ]
  },
  {
   "cell_type": "markdown",
   "metadata": {},
   "source": [
    "## Step 3: Use umami calculations without the `Metric` class\n",
    "\n",
    "Each of the umami calculation functions (for example `aggregate`) can be used as a stand-alone function without the `Metric` class. For example, the following is how one would use it to perform the two calculations done above:"
   ]
  },
  {
   "cell_type": "code",
   "execution_count": null,
   "metadata": {},
   "outputs": [],
   "source": [
    "aggregate(grid, method=\"mean\", field=\"topographic__elevation\")"
   ]
  },
  {
   "cell_type": "code",
   "execution_count": null,
   "metadata": {},
   "outputs": [],
   "source": [
    "aggregate(grid, method=\"percentile\", field=\"topographic__elevation\", q=10)"
   ]
  },
  {
   "cell_type": "markdown",
   "metadata": {},
   "source": [
    "The API documentation for each calculation shows its use as part of a `Metric` or `Residual`, and as a stand-alone function.\n",
    "\n",
    "## Step 4: Add new metrics\n",
    "\n",
    "Next we will highlight the ability to add new metrics to the umami `Metric` by adding the variance and the 30th percentile. "
   ]
  },
  {
   "cell_type": "code",
   "execution_count": null,
   "metadata": {},
   "outputs": [],
   "source": [
    "new_metrics = {\n",
    "    \"va\": {\n",
    "        \"_func\": \"aggregate\",\n",
    "        \"method\": \"var\",\n",
    "        \"field\": \"topographic__elevation\"\n",
    "    },\n",
    "    \"ep30\": {\n",
    "        \"_func\": \"aggregate\",\n",
    "        \"method\": \"percentile\",\n",
    "        \"field\": \"topographic__elevation\",\n",
    "        \"q\": 30\n",
    "    }\n",
    "}\n",
    "\n",
    "metric.add_from_dict(new_metrics)\n",
    "metric.calculate()"
   ]
  },
  {
   "cell_type": "markdown",
   "metadata": {},
   "source": [
    "First we examine the names, "
   ]
  },
  {
   "cell_type": "code",
   "execution_count": null,
   "metadata": {},
   "outputs": [],
   "source": [
    "metric.names"
   ]
  },
  {
   "cell_type": "markdown",
   "metadata": {},
   "source": [
    "And then the values. "
   ]
  },
  {
   "cell_type": "code",
   "execution_count": null,
   "metadata": {},
   "outputs": [],
   "source": [
    "metric.values"
   ]
  },
  {
   "cell_type": "markdown",
   "metadata": {},
   "source": [
    "## Step 5: Write output\n",
    "\n",
    "Umami was designed to interface well with model analysis tools like [`scipy.optimize`](https://docs.scipy.org/doc/scipy/reference/optimize.html) or [Dakota](http://dakota.sandia.gov). To this end, in addition to the output provided in `metric.names` and `metric.values`, two additional methods for writing output are built in:"
   ]
  },
  {
   "cell_type": "code",
   "execution_count": null,
   "metadata": {},
   "outputs": [],
   "source": [
    "out = StringIO()\n",
    "metric.write_metrics_to_file(out, style=\"dakota\")\n",
    "file_contents = out.getvalue().splitlines()\n",
    "for line in file_contents:\n",
    "    print(line.strip())"
   ]
  },
  {
   "cell_type": "code",
   "execution_count": null,
   "metadata": {},
   "outputs": [],
   "source": [
    "out = StringIO()\n",
    "metric.write_metrics_to_file(out, style=\"yaml\")\n",
    "file_contents = out.getvalue().splitlines()\n",
    "for line in file_contents:\n",
    "    print(line.strip())"
   ]
  },
  {
   "cell_type": "markdown",
   "metadata": {},
   "source": [
    "# Next steps\n",
    "\n",
    "Now that you have a sense for how the `Metric` class is used, try the next notebook: [Part 2: Introduction to Umami and the `Residual` Class](IntroductionToResidual.ipynb)."
   ]
  },
  {
   "cell_type": "code",
   "execution_count": null,
   "metadata": {},
   "outputs": [],
   "source": []
  }
 ],
 "metadata": {
  "kernelspec": {
   "display_name": "Python 3",
   "language": "python",
   "name": "python3"
  },
  "language_info": {
   "codemirror_mode": {
    "name": "ipython",
    "version": 3
   },
   "file_extension": ".py",
   "mimetype": "text/x-python",
   "name": "python",
   "nbconvert_exporter": "python",
   "pygments_lexer": "ipython3",
   "version": "3.7.3"
  }
 },
 "nbformat": 4,
 "nbformat_minor": 2
}
