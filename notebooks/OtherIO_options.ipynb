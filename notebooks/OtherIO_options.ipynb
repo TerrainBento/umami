{
 "cells": [
  {
   "cell_type": "markdown",
   "metadata": {},
   "source": [
    "# Part 3: Other options for input\n",
    "\n",
    "Umami is a package for calculating metrics for use with for Earth surface dynamics models. This notebook is the final notebook in a three-part introduction to using umami.\n",
    "\n",
    "Umami was designed to work well with the [terrainbento](https://terrainbento.readthedocs.io/en/latest/) model package, as well as other models built using the [Landlab Toolkit](https://github.com/landlab/landlab). However, umami can be used with models built with other modeling tools and data in a variety of formats. This notebook is meant to demonstrate this capability. \n",
    "\n",
    "## Scope of this tutorial\n",
    "\n",
    "In this tutorial you will learn how to use other input options for umami. \n",
    "\n",
    "Specifically we will use square gridded terrain stored as a [netCDF](https://www.unidata.ucar.edu/software/netcdf/).\n",
    "\n",
    "If you have comments or questions about the notebooks, the best place to get help is through [GitHub Issues](https://github.com/TerrainBento/umami/issues).\n",
    "\n",
    "To begin this example, we will import the required python packages. "
   ]
  },
  {
   "cell_type": "code",
   "execution_count": null,
   "metadata": {},
   "outputs": [],
   "source": [
    "import warnings\n",
    "warnings.filterwarnings('ignore')\n",
    "\n",
    "from io import BytesIO, StringIO\n",
    "\n",
    "import numpy as np\n",
    "from scipy.interpolate import RegularGridInterpolator\n",
    "import matplotlib.pylab as plt\n",
    "from urllib.request import urlopen\n",
    "\n",
    "import rasterio\n",
    "\n",
    "from landlab import imshow_grid, RasterModelGrid, VoronoiDelaunayGrid\n",
    "\n",
    "from umami import Metric"
   ]
  },
  {
   "cell_type": "markdown",
   "metadata": {},
   "source": [
    "Umami does not make any requirements regarding where terrain data comes from or what model or modeling package is used to construct modeled terrain. However, umami does require that modeled or observed terrain is provided to it as a Landlab grid with an at-node field called `topographic__elevation`. Using the Landlab model grid datastructure means that umami knows how large each grid cell is, and how they are connected. Landlab has five model grid classes. One of them will probably suit your needs. \n",
    "\n",
    "- [`RasterModelGrid`]()\n",
    "- [`HexModelGrid`]()\n",
    "- [`RadialModelGrid`]()\n",
    "- [`VoronoiDelaunayGrid`]()\n",
    "- [`NetworkModelGrid`]() \n",
    "\n",
    "In this example we will use the `RasterModelGrid` for regularly spaced square grid cells and the `VoronoiDelaunayGrid` for irregularly spaced observations. \n",
    "\n",
    "If you can read your topography into python as a numpy array, you can put it on a Landlab grid called `topographic__elevation`.\n",
    "\n",
    "You can use a Landlab function such as [`read_esri_ascii`]() or [`read_netcdf`]() to read your data into a numpy array. You can also create a synthetic one, or use some other package to read a file into python. The world is your oyster. \n",
    "\n",
    "In this case we will use the [`rasterio`]() package to read an [ESRI ASCII]() format file that we will download from the [OpenTopography rest server](https://opentopography.org/developers).\n",
    "\n",
    "## Step 1: Read in a numpy array\n",
    "\n",
    "First, we download a small patch of land near Boulder, CO. You can change the values of `north`, `south`, `east` and `west` to change the location. Its not hard to download a very large file, so increase values carefully. \n",
    "\n",
    "These data are provided with horizontal units of degrees. For this example we will not convert from degrees to meters, or address the issue of changing from a geographic coordinate system (WGS84) to a projected one (e.g, UTM Zone 13 N, for Colorado)."
   ]
  },
  {
   "cell_type": "code",
   "execution_count": null,
   "metadata": {},
   "outputs": [],
   "source": [
    "west = -105.4  # longitude (degrees)\n",
    "east = -105.15  # longitude (degrees)\n",
    "north = 40.1  # latitude (degrees)\n",
    "south = 39.9  # latitue (degrees)\n",
    "\n",
    "URL = \"http://opentopo.sdsc.edu/otr/getdem?demtype=SRTMGL3&\"\n",
    "url = (URL + \"west=\" + str(west) + \"&\" + \"south=\" + str(south) + \"&\"\n",
    "       \"east=\" + str(east) + \"&\"\n",
    "       \"north=\" + str(north) + \"&\"\n",
    "       \"outputFormat=AAIGrid\")\n",
    "\n",
    "f = urlopen(url)\n",
    "file_like = BytesIO(f.read())\n",
    "#file_like = StringIO(b.getvalue().decode(\"UTF-8\"))\n",
    "\n",
    "#mg, z = read_esri_ascii(file_like, name=\"topographic__elevation\")\n",
    "#imshow_grid(mg, z)\n",
    "\n",
    "#from landlab.io import write_esri_ascii\n",
    "#write_esri_ascii(\"example_topography.asc\", mg)"
   ]
  },
  {
   "cell_type": "markdown",
   "metadata": {},
   "source": [
    "We now have this thing, `file_like`..."
   ]
  },
  {
   "cell_type": "code",
   "execution_count": null,
   "metadata": {},
   "outputs": [],
   "source": [
    "with rasterio.open(file_like) as dataset:\n",
    "    #with rasterio.open('example_topography.asc') as dataset:\n",
    "    nrows = dataset.height\n",
    "    ncols = dataset.width\n",
    "    dx, dy = dataset.res\n",
    "    xy_lower_left = (dataset.bounds.left, dataset.bounds.bottom)\n",
    "    elevations = dataset.read(1)\n",
    "\n"
   ]
  },
  {
   "cell_type": "markdown",
   "metadata": {},
   "source": []
  },
  {
   "cell_type": "code",
   "execution_count": null,
   "metadata": {},
   "outputs": [],
   "source": [
    "plt.imshow(elevations, cmap=\"terrain\", origin=\"lower\")"
   ]
  },
  {
   "cell_type": "markdown",
   "metadata": {},
   "source": [
    "This is upside down.... (as expected)\n",
    "\n",
    "## Step 2: Create a ModelGrid to give to Umami\n",
    "\n",
    "We can now create our model grid. "
   ]
  },
  {
   "cell_type": "code",
   "execution_count": null,
   "metadata": {},
   "outputs": [],
   "source": [
    "grid = RasterModelGrid((nrows, ncols),\n",
    "                       dx=dx,\n",
    "                       dy=dy,\n",
    "                       xy_lower_left=xy_lower_left)\n",
    "\n",
    "z = grid.add_field(\"topographic__elevation\", elevations)\n",
    "\n",
    "imshow_grid(grid, z, cmap=\"terrain\")"
   ]
  },
  {
   "cell_type": "markdown",
   "metadata": {},
   "source": [
    "Now we make our Metric."
   ]
  },
  {
   "cell_type": "code",
   "execution_count": null,
   "metadata": {},
   "outputs": [],
   "source": [
    "metrics = {\n",
    "    \"me\": {\n",
    "        \"_func\": \"aggregate\",\n",
    "        \"method\": \"mean\",\n",
    "        \"field\": \"topographic__elevation\"\n",
    "    },\n",
    "    \"ep10\": {\n",
    "        \"_func\": \"aggregate\",\n",
    "        \"method\": \"percentile\",\n",
    "        \"field\": \"topographic__elevation\",\n",
    "        \"q\": 10\n",
    "    }\n",
    "}\n",
    "\n",
    "#metric = Metric(grid, metrics=metrics)\n",
    "#metric.calculate()"
   ]
  },
  {
   "cell_type": "code",
   "execution_count": null,
   "metadata": {},
   "outputs": [],
   "source": [
    "#metric.names"
   ]
  },
  {
   "cell_type": "code",
   "execution_count": null,
   "metadata": {},
   "outputs": [],
   "source": [
    "#metric.values"
   ]
  },
  {
   "cell_type": "markdown",
   "metadata": {},
   "source": [
    "## Step 2: Use irregular data\n",
    "\n",
    "We use a tenth as many points for speed here. "
   ]
  },
  {
   "cell_type": "code",
   "execution_count": null,
   "metadata": {},
   "outputs": [],
   "source": [
    "factor = 10\n",
    "\n",
    "interp_obj = RegularGridInterpolator((grid.y_of_node.reshape(\n",
    "    grid.shape)[:, 0], grid.x_of_node.reshape(grid.shape)[0, :]),\n",
    "                                     z.reshape(grid.shape))\n",
    "\n",
    "random_x = np.random.uniform(low=grid.x_of_node.min(),\n",
    "                             high=grid.x_of_node.max(),\n",
    "                             size=int(grid.x_of_node.size / factor))\n",
    "random_y = np.random.uniform(low=grid.y_of_node.min(),\n",
    "                             high=grid.y_of_node.max(),\n",
    "                             size=int(grid.y_of_node.size / factor))\n",
    "interp_z = interp_obj((random_y, random_x))"
   ]
  },
  {
   "cell_type": "markdown",
   "metadata": {},
   "source": []
  },
  {
   "cell_type": "code",
   "execution_count": null,
   "metadata": {},
   "outputs": [],
   "source": [
    "vals = np.vstack((random_x, random_y, interp_z))\n",
    "\n",
    "# sort by x then by y\n",
    "sort_by_x = vals[:, vals[0, :].argsort()]\n",
    "sort_by_xy = sort_by_x[:, sort_by_x[1, :].argsort()]"
   ]
  },
  {
   "cell_type": "markdown",
   "metadata": {},
   "source": []
  },
  {
   "cell_type": "code",
   "execution_count": null,
   "metadata": {},
   "outputs": [],
   "source": [
    "vdg = VoronoiDelaunayGrid(sort_by_xy[0], sort_by_xy[1])\n",
    "z = vdg.add_field(\"node\", \"topographic__elevation\", sort_by_xy[2])\n",
    "\n",
    "imshow_grid(vdg, z, cmap=\"terrain\")"
   ]
  },
  {
   "cell_type": "markdown",
   "metadata": {},
   "source": []
  },
  {
   "cell_type": "code",
   "execution_count": null,
   "metadata": {},
   "outputs": [],
   "source": [
    "metrics = {\n",
    "    \"me\": {\n",
    "        \"_func\": \"aggregate\",\n",
    "        \"method\": \"mean\",\n",
    "        \"field\": \"topographic__elevation\"\n",
    "    },\n",
    "    \"ep10\": {\n",
    "        \"_func\": \"aggregate\",\n",
    "        \"method\": \"percentile\",\n",
    "        \"field\": \"topographic__elevation\",\n",
    "        \"q\": 10\n",
    "    }\n",
    "}\n",
    "\n",
    "#metric = Metric(vdg, metrics=metrics)\n",
    "#metric.calculate()"
   ]
  },
  {
   "cell_type": "code",
   "execution_count": null,
   "metadata": {},
   "outputs": [],
   "source": [
    "#metric.names"
   ]
  },
  {
   "cell_type": "code",
   "execution_count": null,
   "metadata": {},
   "outputs": [],
   "source": [
    "#metric.values"
   ]
  },
  {
   "cell_type": "code",
   "execution_count": null,
   "metadata": {},
   "outputs": [],
   "source": []
  },
  {
   "cell_type": "markdown",
   "metadata": {},
   "source": [
    "# Next steps\n",
    "\n",
    "Now that you have a sense for how the `Metric` and `Residual` classes are used, try the next notebook: [Part 4: Example application](ExampleApplication.ipynb)."
   ]
  }
 ],
 "metadata": {
  "kernelspec": {
   "display_name": "Python 3",
   "language": "python",
   "name": "python3"
  },
  "language_info": {
   "codemirror_mode": {
    "name": "ipython",
    "version": 3
   },
   "file_extension": ".py",
   "mimetype": "text/x-python",
   "name": "python",
   "nbconvert_exporter": "python",
   "pygments_lexer": "ipython3",
   "version": "3.7.3"
  }
 },
 "nbformat": 4,
 "nbformat_minor": 2
}
