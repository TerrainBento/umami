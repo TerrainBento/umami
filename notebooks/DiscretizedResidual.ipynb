{
 "cells": [
  {
   "cell_type": "code",
   "execution_count": null,
   "metadata": {},
   "outputs": [],
   "source": []
  },
  {
   "cell_type": "code",
   "execution_count": null,
   "metadata": {},
   "outputs": [],
   "source": [
    "import warnings\n",
    "warnings.filterwarnings('ignore')\n",
    "\n",
    "from io import StringIO\n",
    "from itertools import product\n",
    "\n",
    "import numpy as np\n",
    "\n",
    "import pandas as pd\n",
    "\n",
    "import matplotlib\n",
    "import matplotlib.pyplot as plt\n",
    "%matplotlib inline\n",
    "\n",
    "from plotnine import *\n",
    "\n",
    "import holoviews as hv\n",
    "hv.notebook_extension('matplotlib')\n",
    "\n",
    "from landlab import imshow_grid\n",
    "from terrainbento import Basic\n",
    "from umami import Metric, Residual"
   ]
  },
  {
   "cell_type": "code",
   "execution_count": null,
   "metadata": {},
   "outputs": [],
   "source": [
    "spec_string = \"\"\"\n",
    "# Create the Clock.\n",
    "clock:\n",
    "    start: 0\n",
    "    step: 500\n",
    "    stop: {duration}\n",
    "\n",
    "# Create the Grid\n",
    "grid: \n",
    "    RasterModelGrid: \n",
    "        - [100, 120]\n",
    "        - xy_spacing: 50\n",
    "        - fields: \n",
    "            node: \n",
    "                topographic__elevation:\n",
    "                    random:\n",
    "                        where: CORE_NODE\n",
    "\n",
    "                        \n",
    "# Set up Boundary Handlers\n",
    "boundary_handlers: \n",
    "    NotCoreNodeBaselevelHandler: \n",
    "        modify_core_nodes: True\n",
    "        lowering_rate: -{lowering_rate}\n",
    "\n",
    "# Parameters that control output.\n",
    "output_interval: 1e3\n",
    "save_first_timestep: True\n",
    "output_prefix: \n",
    "    disc_resid.{name}.\n",
    "fields: \n",
    "    - topographic__elevation\n",
    "\n",
    "# Parameters that control process and rates.\n",
    "water_erodibility: {water_erodibility}\n",
    "m_sp: 0.5\n",
    "n_sp: 1.0\n",
    "regolith_transport_parameter: 0.1\n",
    "\"\"\""
   ]
  },
  {
   "cell_type": "code",
   "execution_count": null,
   "metadata": {},
   "outputs": [],
   "source": [
    "truth_duration = 3e4\n",
    "truth_water_erodibility = 0.0005\n",
    "\n",
    "lowering_rate = 100/truth_duration\n",
    "\n",
    "truth_params = StringIO(\n",
    "    spec_string.format(duration=truth_duration,\n",
    "                       water_erodibility=truth_water_erodibility,\n",
    "                       lowering_rate=lowering_rate, \n",
    "                       name=\"truth\"))\n",
    "np.random.seed(42)\n",
    "truth = Basic.from_file(truth_params)\n",
    "truth.run()"
   ]
  },
  {
   "cell_type": "code",
   "execution_count": null,
   "metadata": {},
   "outputs": [],
   "source": [
    "ds = truth.to_xarray_dataset(time_unit='years', space_unit='meters')\n",
    "hvds_topo = hv.Dataset(ds.topographic__elevation)\n",
    "topo = hvds_topo.to(hv.Image, ['x', 'y'],\n",
    "                    label='Truth').options(interpolation='bilinear',\n",
    "                                           cmap='viridis',\n",
    "                                           colorbar=True)\n",
    "topo"
   ]
  },
  {
   "cell_type": "code",
   "execution_count": null,
   "metadata": {},
   "outputs": [],
   "source": [
    "ds.close()\n",
    "truth.remove_output_netcdfs()"
   ]
  },
  {
   "cell_type": "code",
   "execution_count": null,
   "metadata": {},
   "outputs": [],
   "source": [
    "residual_string = \"\"\"\n",
    "dm:\n",
    "    _func: discretized_misfit\n",
    "    name: chi_{field_1_level}.z_{field_2_level}\n",
    "    misfit_field: topographic__elevation\n",
    "    field_1: channel__chi_index\n",
    "    field_2: topographic__elevation\n",
    "    field_1_percentile_edges:\n",
    "        - 0\n",
    "        - 30\n",
    "        - 60\n",
    "        - 100\n",
    "    field_2_percentile_edges:\n",
    "        - 0\n",
    "        - 50\n",
    "        - 60\n",
    "        - 100\n",
    "\"\"\""
   ]
  },
  {
   "cell_type": "code",
   "execution_count": null,
   "metadata": {},
   "outputs": [],
   "source": [
    "resolution = 10\n",
    "durations = np.logspace(3, 5, num=resolution)\n",
    "water_erodibilitys = np.logspace(-4, -2, num=resolution)"
   ]
  },
  {
   "cell_type": "code",
   "execution_count": null,
   "metadata": {},
   "outputs": [],
   "source": [
    "out = {}\n",
    "for i, (duration, water_erodibility) in enumerate(product(durations, water_erodibilitys)):\n",
    "    lowering_rate = 100/duration\n",
    "    test_params = StringIO(\n",
    "        spec_string.format(duration=duration, \n",
    "                           water_erodibility=water_erodibility, \n",
    "                           lowering_rate=lowering_rate, \n",
    "                           name=i))\n",
    "    #np.random.seed(42)\n",
    "    test = Basic.from_file(test_params)\n",
    "    test.run()\n",
    "\n",
    "    test.remove_output_netcdfs()\n",
    "    \n",
    "    residual = Residual(test.grid, truth.grid, chi_finder_kwds={\"min_drainage_area\": 1000})\n",
    "    residual.add_from_file(StringIO(residual_string))\n",
    "    residual.calculate()\n",
    "\n",
    "    values = {name: residual.value(name) for name in residual.names}\n",
    "    out[(duration, water_erodibility)] = values"
   ]
  },
  {
   "cell_type": "code",
   "execution_count": null,
   "metadata": {},
   "outputs": [],
   "source": [
    "imshow_grid(truth.grid, residual.category, cmap=\"Dark2\", limits=(1,9))"
   ]
  },
  {
   "cell_type": "code",
   "execution_count": null,
   "metadata": {},
   "outputs": [],
   "source": [
    "df = pd.DataFrame.from_dict(out, orient=\"index\")\n",
    "df.index.names = [\"duration\", \"water_erodibility\"]\n",
    "df.head()"
   ]
  },
  {
   "cell_type": "code",
   "execution_count": null,
   "metadata": {},
   "outputs": [],
   "source": [
    "df_melt = df.reset_index().melt(id_vars=[\"duration\", \"water_erodibility\"])\n",
    "df_melt[\"squared_residual\"] = df_melt.value**2\n",
    "df_melt.head()"
   ]
  },
  {
   "cell_type": "code",
   "execution_count": null,
   "metadata": {},
   "outputs": [],
   "source": [
    "variable_split = df_melt[\"variable\"].str.split(\".\", n = 1, expand = True)\n",
    "df_melt[\"chi\"] = variable_split[0]\n",
    "df_melt[\"elev\"] = variable_split[1]\n",
    "df_melt.head()"
   ]
  },
  {
   "cell_type": "code",
   "execution_count": null,
   "metadata": {},
   "outputs": [],
   "source": [
    "p1 = (ggplot(df_melt,\n",
    "             aes(x=\"duration\", y=\"water_erodibility\", fill=\"squared_residual\")) +\n",
    "      geom_tile() + \n",
    "      geom_point(aes(x=truth_duration, y=truth_water_erodibility)) +\n",
    "      scale_fill_continuous(limits=[1,1000], trans=\"log10\") +\n",
    "      facet_grid(\"elev~chi\") + \n",
    "      theme_bw() + \n",
    "      scale_x_log10() +\n",
    "      scale_y_log10() +\n",
    "      coord_equal())\n",
    "print(p1)\n"
   ]
  },
  {
   "cell_type": "code",
   "execution_count": null,
   "metadata": {},
   "outputs": [],
   "source": []
  }
 ],
 "metadata": {
  "kernelspec": {
   "display_name": "Python 3",
   "language": "python",
   "name": "python3"
  },
  "language_info": {
   "codemirror_mode": {
    "name": "ipython",
    "version": 3
   },
   "file_extension": ".py",
   "mimetype": "text/x-python",
   "name": "python",
   "nbconvert_exporter": "python",
   "pygments_lexer": "ipython3",
   "version": "3.7.4"
  }
 },
 "nbformat": 4,
 "nbformat_minor": 2
}
