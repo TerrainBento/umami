{
 "cells": [
  {
   "cell_type": "markdown",
   "metadata": {},
   "source": [
    "# Umami notebooks\n",
    "\n",
    "Welcome to the umami notebooks. This page provides links to notebooks that  provide an introduction to umami and its use. We recommend that you look at them in the following order.\n",
    "\n",
    "First, look at two notebooks designed to introduce you to the core classes and methods of umami.\n",
    "\n",
    "  * [Part 1: Introduction to umami and the `Metric` class](IntroductionToMetric.ipynb)\n",
    "  * [Part 2: Introduction to the `Residual` class](IntroductionToResidual.ipynb)\n",
    "  * [Part 3: Other IO options (using umami without Landlab or terrainbento)](OtherIO_options.ipynb)\n",
    "  \n",
    "Then, look at two notebooks with example applications.\n",
    " \n",
    "  * [Part 4: Example Application](ExampleApplication.ipynb)\n",
    "  * [Part 5: Application using the Discretized Misfit calculation](DiscretizedMisfit.ipynb)\n",
    "  \n",
    "If you have comments or questions about the notebooks, the best place to get help is through [GitHub Issues](https://github.com/TerrainBento/umami/issues).\n",
    "\n",
    "## Some background\n",
    "\n",
    "### What is umami?\n",
    "\n",
    "Umami is a package for calculating objective functions or objective function components for Earth surface dynamics modeling. It was designed to work well with [terrainbento](https://github.com/TerrainBento/terrainbento) and other models built with the [Landlab Toolkit](https://github.com/landlab/landlab). However, it is not necessary to do modeling with either of these packages to use umami (this is described further in [Part 3 of the notebook series](OtherIO_options.ipynb).\n",
    "\n",
    "Umami offers two primary classes:\n",
    "* a[`Residual`](https://umami.readthedocs.io/en/latest/umami.residual.html#Residual),\n",
    "which represents the difference between model and data, and \n",
    "* a [`Metric`](https://umami.readthedocs.io/en/latest/umami.metric.html),\n",
    "which is a calculated value on either model or data. \n",
    "\n",
    "The set of currently supported calculations can be found in the [`umami.calculations`](https://umami.readthedocs.io/en/latest/umami.calculations.html) submodule.\n",
    "\n",
    "### What does it do well?\n",
    "\n",
    "Umami was designed to provide an input-file based interface for calculating single-value landscape metrics for use in model analysis. This supports reproducible analysis and systematic variation in metric construction. When used with `terrainbento`, one input file can describe the model run, and one input file can describe the model assessment or model-data comparison. This streamlines model analysis applications. Umami also provides multiple output formats (YAML and Dakota), the latter of which is designed to interface with Sandia National Laboratory's [Dakota package](https://dakota.sandia.gov)."
   ]
  },
  {
   "cell_type": "code",
   "execution_count": null,
   "metadata": {},
   "outputs": [],
   "source": []
  }
 ],
 "metadata": {
  "kernelspec": {
   "display_name": "Python 3",
   "language": "python",
   "name": "python3"
  },
  "language_info": {
   "codemirror_mode": {
    "name": "ipython",
    "version": 3
   },
   "file_extension": ".py",
   "mimetype": "text/x-python",
   "name": "python",
   "nbconvert_exporter": "python",
   "pygments_lexer": "ipython3",
   "version": "3.7.4"
  }
 },
 "nbformat": 4,
 "nbformat_minor": 2
}
