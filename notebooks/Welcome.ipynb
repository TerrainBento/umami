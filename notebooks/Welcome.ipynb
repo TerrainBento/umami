{
 "cells": [
  {
   "cell_type": "markdown",
   "metadata": {},
   "source": [
    "# Umami notebooks\n",
    "\n",
    "Welcome to the umami notebooks. This page provides links to notebooks that \n",
    "provide an introduction to umami and its use. We recommend that you look at \n",
    "them in the following order.\n",
    "\n",
    "First, look at two notebooks designed to introduce you to the core classes and methods of umami.\n",
    "\n",
    "  * [Part 1: Introduction to umami and the `Metric` class](IntroductionToMetric.ipynb)\n",
    "  * [Part 2: Introduction to the `Residual` class](IntroductionToResidual.ipynb)\n",
    "  \n",
    "Then, look at two notebooks with example applications.\n",
    " \n",
    "  * [Part 3: Example Application](ExampleApplication.ipynb)\n",
    "  * [Part 4: Application using the Discretized Misfit calculation](DiscretizedResidual.ipynb)\n",
    "  \n",
    "If you have comments or questions about the notebooks, the best place to get help is through [GitHub Issues](https://github.com/TerrainBento/umami/issues).\n",
    "\n",
    "## Some background\n",
    "\n",
    "### What is umami?\n",
    "\n",
    "Umami is a package for calculating objective functions or objective function\n",
    "components for landscape evolution modeling. It was designed to work well with\n",
    "models built with the [Landlab Toolkit](https://github.com/landlab/landlab) or\n",
    "with [terrainbento](https://github.com/TerrainBento/terrainbento). An example\n",
    "of each of these can be found in the notebooks on Binder (or in the `notebooks`\n",
    "directory).\n",
    "\n",
    "Umami offers two primary classes a\n",
    "[`Residual`](https://umami.readthedocs.io/en/latest/umami.residual.html#Residual)\n",
    "which represents the difference between model and data, and a\n",
    "[`Metric`](https://umami.readthedocs.io/en/latest/umami.metric.html)\n",
    "which is a calculated value on either model or data. The set of currently\n",
    "supported calculations are found in the\n",
    "[`umami.calculations`](https://umami.readthedocs.io/en/latest/umami.calculations.html)\n",
    "submodule.\n",
    "\n",
    "### What does it do well?\n",
    "\n",
    "Umami was designed to provide an input-file based interface for calculating\n",
    "single value landscape metrics for use in model analysis. This supports\n",
    "reproducible analysis and systematic variation in metric construction. When\n",
    "used with `terrainbento` one input file can describe the model run, and one\n",
    "input file can describe the model assessment or model-data comparison. This\n",
    "streamlines model analysis applications. Umami also provides multiple output\n",
    "formats (YAML and Dakota), the latter of which is designed to interface with\n",
    "Sandia National Laboratory's [Dakota package](https://dakota.sandia.gov)."
   ]
  },
  {
   "cell_type": "code",
   "execution_count": null,
   "metadata": {},
   "outputs": [],
   "source": []
  }
 ],
 "metadata": {
  "kernelspec": {
   "display_name": "Python 3",
   "language": "python",
   "name": "python3"
  },
  "language_info": {
   "codemirror_mode": {
    "name": "ipython",
    "version": 3
   },
   "file_extension": ".py",
   "mimetype": "text/x-python",
   "name": "python",
   "nbconvert_exporter": "python",
   "pygments_lexer": "ipython3",
   "version": "3.7.4"
  }
 },
 "nbformat": 4,
 "nbformat_minor": 2
}
