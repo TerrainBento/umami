{
 "cells": [
  {
   "cell_type": "markdown",
   "metadata": {},
   "source": [
    "# Part 3: Example application\n",
    "\n",
    "\n",
    "First, we begin by constructing \n",
    "\n",
    "\n",
    "## Scope\n",
    "\n",
    "\n",
    "\n",
    "If you have comments or questions about the notebooks, the best place to get help is through [GitHub Issues](https://github.com/TerrainBento/umami/issues)."
   ]
  },
  {
   "cell_type": "code",
   "execution_count": null,
   "metadata": {},
   "outputs": [],
   "source": [
    "import warnings\n",
    "warnings.filterwarnings('ignore')\n",
    "\n",
    "from io import StringIO\n",
    "from itertools import product\n",
    "\n",
    "import numpy as np\n",
    "\n",
    "import pandas as pd\n",
    "\n",
    "import matplotlib\n",
    "import matplotlib.pyplot as plt\n",
    "%matplotlib inline\n",
    "\n",
    "from plotnine import *\n",
    "\n",
    "import holoviews as hv\n",
    "hv.notebook_extension('matplotlib')\n",
    "\n",
    "from landlab import imshow_grid\n",
    "from terrainbento import Basic\n",
    "from umami import Metric, Residual"
   ]
  },
  {
   "cell_type": "code",
   "execution_count": null,
   "metadata": {},
   "outputs": [],
   "source": [
    "spec_string = \"\"\"\n",
    "# Create the Clock.\n",
    "clock:\n",
    "    start: 0\n",
    "    step: 500\n",
    "    stop: {duration}\n",
    "\n",
    "# Create the Grid\n",
    "grid: \n",
    "    RasterModelGrid: \n",
    "        - [50, 80]\n",
    "        - xy_spacing: 100\n",
    "        - fields: \n",
    "            node: \n",
    "                topographic__elevation:\n",
    "                    random:\n",
    "                        where: CORE_NODE\n",
    "                    constant:\n",
    "                        value: 100\n",
    "                        \n",
    "# Set up Boundary Handlers\n",
    "boundary_handlers: \n",
    "    SingleNodeBaselevelHandler: \n",
    "        outlet_id: 40\n",
    "        lowering_rate: -{lowering_rate}\n",
    "\n",
    "# Parameters that control output.\n",
    "output_interval: 1e3\n",
    "save_first_timestep: True\n",
    "output_prefix: \n",
    "    simple_application.{name}.\n",
    "fields: \n",
    "    - topographic__elevation\n",
    "\n",
    "# Parameters that control process and rates.\n",
    "water_erodibility: {water_erodibility}\n",
    "m_sp: 0.5\n",
    "n_sp: 1.0\n",
    "regolith_transport_parameter: 0.1\n",
    "\"\"\""
   ]
  },
  {
   "cell_type": "code",
   "execution_count": null,
   "metadata": {},
   "outputs": [],
   "source": [
    "truth_duration = 1e4\n",
    "truth_water_erodibility = 0.0005\n",
    "\n",
    "lowering_rate = 100 / truth_duration\n",
    "\n",
    "truth_params = StringIO(\n",
    "    spec_string.format(duration=truth_duration,\n",
    "                       water_erodibility=truth_water_erodibility,\n",
    "                       lowering_rate=lowering_rate,\n",
    "                       name=\"truth\"))\n",
    "np.random.seed(42)\n",
    "truth = Basic.from_file(truth_params)\n",
    "truth.run()"
   ]
  },
  {
   "cell_type": "code",
   "execution_count": null,
   "metadata": {},
   "outputs": [],
   "source": [
    "ds = truth.to_xarray_dataset(time_unit='years', space_unit='meters')\n",
    "hvds_topo = hv.Dataset(ds.topographic__elevation)\n",
    "topo = hvds_topo.to(hv.Image, ['x', 'y'],\n",
    "                    label='Truth').options(interpolation='bilinear',\n",
    "                                           cmap='viridis',\n",
    "                                           colorbar=True)\n",
    "topo"
   ]
  },
  {
   "cell_type": "code",
   "execution_count": null,
   "metadata": {},
   "outputs": [],
   "source": [
    "ds.close()\n",
    "truth.remove_output_netcdfs()"
   ]
  },
  {
   "cell_type": "code",
   "execution_count": null,
   "metadata": {},
   "outputs": [],
   "source": [
    "residual_string = \"\"\"\n",
    "z_me:\n",
    "    _func: aggregate\n",
    "    method: mean\n",
    "    field: topographic__elevation\n",
    "z_p10:\n",
    "    _func: aggregate\n",
    "    method: percentile\n",
    "    field: topographic__elevation\n",
    "    q: 10\n",
    "z_wsmean:\n",
    "    _func: watershed_aggregation\n",
    "    field: topographic__elevation\n",
    "    method: mean\n",
    "    outlet_id: 40\n",
    "ksw_z:\n",
    "    _func: kstest_watershed\n",
    "    outlet_id: 40\n",
    "    field: topographic__elevation\n",
    "ksw_da:\n",
    "    _func: kstest_watershed\n",
    "    outlet_id: 40\n",
    "    field: drainage_area\n",
    "ksw_s:\n",
    "    _func: kstest_watershed\n",
    "    outlet_id: 40\n",
    "    field: topographic__steepest_slope\n",
    "\"\"\""
   ]
  },
  {
   "cell_type": "code",
   "execution_count": null,
   "metadata": {},
   "outputs": [],
   "source": [
    "resolution = 10\n",
    "durations = np.logspace(3, 5, num=resolution)\n",
    "water_erodibilitys = np.logspace(-4, -2, num=resolution)"
   ]
  },
  {
   "cell_type": "code",
   "execution_count": null,
   "metadata": {},
   "outputs": [],
   "source": [
    "out = {}\n",
    "for i, (duration,\n",
    "        water_erodibility) in enumerate(product(durations,\n",
    "                                                water_erodibilitys)):\n",
    "    lowering_rate = 100 / duration\n",
    "    test_params = StringIO(\n",
    "        spec_string.format(duration=duration,\n",
    "                           water_erodibility=water_erodibility,\n",
    "                           lowering_rate=lowering_rate,\n",
    "                           name=i))\n",
    "    #np.random.seed(42)\n",
    "    test = Basic.from_file(test_params)\n",
    "    test.run()\n",
    "\n",
    "    test.remove_output_netcdfs()\n",
    "\n",
    "    residual = Residual(test.grid, truth.grid)\n",
    "    residual.add_from_file(StringIO(residual_string))\n",
    "    residual.calculate()\n",
    "\n",
    "    values = {name: residual.value(name) for name in residual.names}\n",
    "    out[(duration, water_erodibility)] = values"
   ]
  },
  {
   "cell_type": "code",
   "execution_count": null,
   "metadata": {},
   "outputs": [],
   "source": [
    "df = pd.DataFrame.from_dict(out, orient=\"index\")\n",
    "df.index.names = [\"duration\", \"water_erodibility\"]\n",
    "df.head()"
   ]
  },
  {
   "cell_type": "code",
   "execution_count": null,
   "metadata": {},
   "outputs": [],
   "source": [
    "df_melt = df.reset_index().melt(id_vars=[\"duration\", \"water_erodibility\"])\n",
    "df_melt[\"squared_residual\"] = df_melt.value**2\n",
    "df_melt.head()"
   ]
  },
  {
   "cell_type": "code",
   "execution_count": null,
   "metadata": {},
   "outputs": [],
   "source": [
    "p1 = (ggplot(df_melt[df_melt.variable.str.startswith(\"ksw\")],\n",
    "             aes(x=\"duration\", y=\"water_erodibility\",\n",
    "                 fill=\"squared_residual\")) + geom_tile() +\n",
    "      geom_point(aes(x=truth_duration, y=truth_water_erodibility)) +\n",
    "      scale_fill_continuous(limits=[0.001, 1], trans=\"log10\") +\n",
    "      facet_wrap(\"~variable\") + theme_bw() + scale_x_log10() +\n",
    "      scale_y_log10() + coord_equal())\n",
    "\n",
    "p2 = (\n",
    "    ggplot(df_melt[df_melt.variable.str.startswith(\"z\")],\n",
    "           aes(x=\"duration\", y=\"water_erodibility\", fill=\"squared_residual\")) +\n",
    "    geom_tile() + scale_fill_continuous(limits=[0.001, 1000], trans=\"log10\") +\n",
    "    geom_point(aes(x=truth_duration, y=truth_water_erodibility)) +\n",
    "    facet_wrap(\"~variable\") + theme_bw() + scale_x_log10() + scale_y_log10() +\n",
    "    coord_equal())\n",
    "\n",
    "print(p1)\n",
    "print(p2)"
   ]
  },
  {
   "cell_type": "code",
   "execution_count": null,
   "metadata": {},
   "outputs": [],
   "source": []
  },
  {
   "cell_type": "markdown",
   "metadata": {},
   "source": [
    "# Next steps\n",
    "\n",
    "The next step is the final notebook in the four part introductory series: [Part 4: Application using the Discretized Misfit calculation](DiscretizedResidual.ipynb)."
   ]
  },
  {
   "cell_type": "code",
   "execution_count": null,
   "metadata": {},
   "outputs": [],
   "source": []
  }
 ],
 "metadata": {
  "kernelspec": {
   "display_name": "Python 3",
   "language": "python",
   "name": "python3"
  },
  "language_info": {
   "codemirror_mode": {
    "name": "ipython",
    "version": 3
   },
   "file_extension": ".py",
   "mimetype": "text/x-python",
   "name": "python",
   "nbconvert_exporter": "python",
   "pygments_lexer": "ipython3",
   "version": "3.7.4"
  }
 },
 "nbformat": 4,
 "nbformat_minor": 2
}
