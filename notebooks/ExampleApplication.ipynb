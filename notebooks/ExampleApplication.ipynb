{
 "cells": [
  {
   "cell_type": "markdown",
   "metadata": {},
   "source": [
    "# Part 3: Example application\n",
    "\n",
    "By now, you should have looked through [Part 1](IntroductionToMetric.ipynb) and [Part 2](IntroductionToResidual.ipynb) of the introductory notebook series. These introduced the umami `Metric` and `Residual` classes. \n",
    "\n",
    "## Scope\n",
    "\n",
    "In this application we will use umami alongside the [terrainbento](https://terrainbento.readthedocs.io/en/latest/) package. Terrainbento will be used to define a landscape evolution model, the details of which will be defined below. \n",
    "\n",
    "We will define a \"synthetic truth\" model evaluation with a specific set of input parameters, and then do a grid search in which we let two of those parameters vary. In this way we will explore which statistics for model-data comparison do best at identifying the \"true\" parameters. \n",
    "\n",
    "If you have comments or questions about the notebooks, the best place to get help is through [GitHub Issues](https://github.com/TerrainBento/umami/issues).\n",
    "\n",
    "To begin, we import necessary modules. "
   ]
  },
  {
   "cell_type": "code",
   "execution_count": null,
   "metadata": {},
   "outputs": [],
   "source": [
    "import warnings\n",
    "warnings.filterwarnings('ignore')\n",
    "\n",
    "from io import StringIO\n",
    "from itertools import product\n",
    "\n",
    "import numpy as np\n",
    "\n",
    "import pandas as pd\n",
    "\n",
    "import matplotlib\n",
    "import matplotlib.pyplot as plt\n",
    "%matplotlib inline\n",
    "\n",
    "from plotnine import *\n",
    "\n",
    "import holoviews as hv\n",
    "hv.notebook_extension('matplotlib')\n",
    "\n",
    "from landlab import imshow_grid\n",
    "from terrainbento import Basic\n",
    "from umami import Metric, Residual"
   ]
  },
  {
   "cell_type": "markdown",
   "metadata": {},
   "source": [
    "## Step 1: Define the truth model\n",
    "\n",
    "We begin by defining an input string that defines the terrainbento model. We will use the simplest terrainbento model, called Basic. \n",
    "\n",
    "It evolves topography using stream power and linear diffusion and has the following governing equation:\n",
    "\n",
    "$\\frac{\\partial \\eta}{\\partial t} = -KQ^{1/2}S + D\\nabla^2 \\eta$\n",
    "\n",
    "where $K$ and $D$ are parameters, $Q$ is discharge, $S$ is local slope (positive downward), and $\\eta$ is the topography. See the [model Basic documentation](https://terrainbento.readthedocs.io/en/latest/source/terrainbento.derived_models.model_basic.html) for additional information. \n",
    "\n",
    "In this input file we also indicate that the model will run with timesteps of 500 yr and the model grid will have a shape of (50, 80), with grid cell spacing of 100 m. The input file specifies that the model initial condition has all nodes set at an elevation of 100 m, with random noise added to the core nodes. During the model run, the boundary conditions are set to have node number 40 drop at a constant rate over the duration of the model run. This node will drop a total of 100 m over the course of the simulation. \n",
    "\n",
    "Note that a few places in the input file have curly braces around a name. These are as follows:\n",
    "* Two inputs parameters, `{duration}` and `{water_erodibility}`, are modified using [`str.format`](https://docs.python.org/3/library/stdtypes.html#str.format). In this way we set the values for the \"truth\" model run and vary the parameters in a grid search numerical experiment.\n",
    "* We set the `{lowering_rate}` based on the value for duration so that 100 m of lowering occurs during the simulation duration. \n",
    "* We also format the `{name}` of output files in order to prevent Windows file permissions errors. "
   ]
  },
  {
   "cell_type": "code",
   "execution_count": null,
   "metadata": {},
   "outputs": [],
   "source": [
    "spec_string = \"\"\"\n",
    "# Create the Clock.\n",
    "clock:\n",
    "    start: 0\n",
    "    step: 500\n",
    "    stop: {duration}\n",
    "\n",
    "# Create the Grid\n",
    "grid: \n",
    "    RasterModelGrid: \n",
    "        - [50, 80]\n",
    "        - xy_spacing: 100\n",
    "        - fields: \n",
    "            node: \n",
    "                topographic__elevation:\n",
    "                    random:\n",
    "                        where: CORE_NODE\n",
    "                    constant:\n",
    "                        value: 100\n",
    "                        \n",
    "# Set up Boundary Handlers\n",
    "boundary_handlers: \n",
    "    SingleNodeBaselevelHandler: \n",
    "        outlet_id: 40\n",
    "        lowering_rate: -{lowering_rate}\n",
    "\n",
    "# Parameters that control output.\n",
    "output_interval: 1e3\n",
    "save_first_timestep: True\n",
    "output_prefix: \n",
    "    simple_application.{name}.\n",
    "fields: \n",
    "    - topographic__elevation\n",
    "\n",
    "# Parameters that control process and rates.\n",
    "water_erodibility: {water_erodibility}\n",
    "m_sp: 0.5\n",
    "n_sp: 1.0\n",
    "regolith_transport_parameter: 0.1\n",
    "\"\"\""
   ]
  },
  {
   "cell_type": "markdown",
   "metadata": {},
   "source": [
    "Next we instantiate the \"truth\" model and run it. "
   ]
  },
  {
   "cell_type": "code",
   "execution_count": null,
   "metadata": {},
   "outputs": [],
   "source": [
    "truth_duration = 1e4\n",
    "truth_water_erodibility = 0.0005\n",
    "\n",
    "lowering_rate = 100 / truth_duration\n",
    "\n",
    "truth_params = StringIO(\n",
    "    spec_string.format(duration=truth_duration,\n",
    "                       water_erodibility=truth_water_erodibility,\n",
    "                       lowering_rate=lowering_rate,\n",
    "                       name=\"truth\"))\n",
    "np.random.seed(42)\n",
    "truth = Basic.from_file(truth_params)\n",
    "truth.run()"
   ]
  },
  {
   "cell_type": "markdown",
   "metadata": {},
   "source": [
    "The [holoviews](https://holoviews.org) package provides capabilities to visualize the model run. "
   ]
  },
  {
   "cell_type": "code",
   "execution_count": null,
   "metadata": {},
   "outputs": [],
   "source": [
    "ds = truth.to_xarray_dataset(time_unit='years', space_unit='meters')\n",
    "hvds_topo = hv.Dataset(ds.topographic__elevation)\n",
    "topo = hvds_topo.to(hv.Image, ['x', 'y'],\n",
    "                    label='Truth').options(interpolation='bilinear',\n",
    "                                           cmap='viridis',\n",
    "                                           colorbar=True)\n",
    "topo"
   ]
  },
  {
   "cell_type": "markdown",
   "metadata": {},
   "source": [
    "You can see that in this model a drainage basin incises into the 100m high topography. This makes sense as we have dropped the elevation of node 40 by 100 m over the simulation. \n",
    "\n",
    "Before moving on, we close the xarray dataset and remove the output netcdf files. "
   ]
  },
  {
   "cell_type": "code",
   "execution_count": null,
   "metadata": {},
   "outputs": [],
   "source": [
    "ds.close()\n",
    "truth.remove_output_netcdfs()"
   ]
  },
  {
   "cell_type": "markdown",
   "metadata": {},
   "source": [
    "## Step 2: Define the basis for model-data comparison\n",
    "\n",
    "We consider six different statistics for model data comparison, each defined in the following code block (which serves as our input file):\n",
    "\n",
    "* z_me : the mean of `topographic__elevation`.\n",
    "* z_p10 : the 10th percentile of `topographic__elevation`.\n",
    "* z_wsmean : the mean of `topographic__elevation` *within* the watershed that drains to node 40.\n",
    "* ksw_z : the Kolmogorov-Smirnov test statistic for `topographic__elevation` *within* the watershed that drains to node 40.\n",
    "* ksw_da : the Kolmogorov-Smirnov test statistic for `drainage_area` *within* the watershed that drains to node 40.\n",
    "* ksw_s : the Kolmogorov-Smirnov test statistic for `topographic__steepest_slope` *within* the watershed that drains to node 40.\n",
    "\n",
    "Consider reading the API documentation for the [kstest_watershed](https://umami.readthedocs.io/en/latest/umami.calculations.residual.ks_test.html#umami.calculations.residual.kstest.kstest_watershed) calculation."
   ]
  },
  {
   "cell_type": "code",
   "execution_count": null,
   "metadata": {},
   "outputs": [],
   "source": [
    "residual_string = \"\"\"\n",
    "z_me:\n",
    "    _func: aggregate\n",
    "    method: mean\n",
    "    field: topographic__elevation\n",
    "z_p10:\n",
    "    _func: aggregate\n",
    "    method: percentile\n",
    "    field: topographic__elevation\n",
    "    q: 10\n",
    "z_wsmean:\n",
    "    _func: watershed_aggregation\n",
    "    field: topographic__elevation\n",
    "    method: mean\n",
    "    outlet_id: 40\n",
    "ksw_z:\n",
    "    _func: kstest_watershed\n",
    "    outlet_id: 40\n",
    "    field: topographic__elevation\n",
    "ksw_da:\n",
    "    _func: kstest_watershed\n",
    "    outlet_id: 40\n",
    "    field: drainage_area\n",
    "ksw_s:\n",
    "    _func: kstest_watershed\n",
    "    outlet_id: 40\n",
    "    field: topographic__steepest_slope\n",
    "\"\"\""
   ]
  },
  {
   "cell_type": "markdown",
   "metadata": {},
   "source": [
    "## Step 3: Create and run the grid search experiment\n",
    "\n",
    "In this example, we will use a grid search to highlight how the misfit values calculated by umami vary across parameter space. \n",
    "\n",
    "We consider values for `duration` between $10^{3}$ and $10^{5}$ and values for $K$ (`water_erodibility`) between $10^{-4}$ and $10^{-2}$.\n",
    "\n",
    "With a resolution of 10, we evaluate $10^2=100$ simulations. Feel free to change the resolution value, though note that it will impact the run time of this notebook. "
   ]
  },
  {
   "cell_type": "code",
   "execution_count": null,
   "metadata": {},
   "outputs": [],
   "source": [
    "resolution = 10\n",
    "durations = np.logspace(3, 5, num=resolution)\n",
    "water_erodibilitys = np.logspace(-4, -2, num=resolution)"
   ]
  },
  {
   "cell_type": "markdown",
   "metadata": {},
   "source": [
    "We evaluate each pair of duration and water erodability and save the model output as a dictionary. With the line \n",
    "\n",
    "    #np.random.seed(42)\n",
    "\n",
    "commented out, each evaluation uses a different random seed. Feel free to uncomment this line to see how the results change if the *exact same* random seed is used for each model integration. "
   ]
  },
  {
   "cell_type": "code",
   "execution_count": null,
   "metadata": {},
   "outputs": [],
   "source": [
    "out = {}\n",
    "for i, (duration,\n",
    "        water_erodibility) in enumerate(product(durations,\n",
    "                                                water_erodibilitys)):\n",
    "    lowering_rate = 100 / duration\n",
    "    test_params = StringIO(\n",
    "        spec_string.format(duration=duration,\n",
    "                           water_erodibility=water_erodibility,\n",
    "                           lowering_rate=lowering_rate,\n",
    "                           name=i))\n",
    "    #np.random.seed(42)\n",
    "    test = Basic.from_file(test_params)\n",
    "    test.run()\n",
    "\n",
    "    test.remove_output_netcdfs()\n",
    "\n",
    "    residual = Residual(test.grid, truth.grid)\n",
    "    residual.add_from_file(StringIO(residual_string))\n",
    "    residual.calculate()\n",
    "\n",
    "    values = {name: residual.value(name) for name in residual.names}\n",
    "    out[(duration, water_erodibility)] = values"
   ]
  },
  {
   "cell_type": "markdown",
   "metadata": {},
   "source": [
    "## Step 4: Compile output, inspect, and plot\n",
    "\n",
    "Next we will convert the output into a [pandas](http://pandas.pydata.org) dataframe and inspect it. The dataframe has two indices, the `duration` and `water_erodibility`. It has six columns, one each for the six outputs we defined above. "
   ]
  },
  {
   "cell_type": "code",
   "execution_count": null,
   "metadata": {},
   "outputs": [],
   "source": [
    "df = pd.DataFrame.from_dict(out, orient=\"index\")\n",
    "df.index.names = [\"duration\", \"water_erodibility\"]\n",
    "df.head()"
   ]
  },
  {
   "cell_type": "markdown",
   "metadata": {},
   "source": [
    "In order to plot the results easily, we will use [plotnine](http://plotnine.readthedocs.io), which provides a [ggplot](http://ggplot2.tidyverse.org) implementation in python. We will also need to [melt](https://pandas.pydata.org/pandas-docs/stable/reference/api/pandas.melt.html) the dataframe from wide format to long format. \n",
    "\n",
    "After doing this, and inspecting, we can see that we now have a column for `duration`, `water_erodibility`, the output variable, its value, and the associated squared residual. "
   ]
  },
  {
   "cell_type": "code",
   "execution_count": null,
   "metadata": {},
   "outputs": [],
   "source": [
    "df_melt = df.reset_index().melt(id_vars=[\"duration\", \"water_erodibility\"])\n",
    "df_melt[\"squared_residual\"] = df_melt.value**2\n",
    "df_melt.head()"
   ]
  },
  {
   "cell_type": "markdown",
   "metadata": {},
   "source": [
    "We will make two plots, the first of which plots the three Kolmogorov-Smirnov test statistics. The white dot indicates the location of the \"truth\". \n",
    "\n",
    "You can see that there is a zone of low misfit in the region of the truth parameters, but that good fits can be found elsewhere. We can also see that there is correlation between `water_erodability` and `duration`. "
   ]
  },
  {
   "cell_type": "code",
   "execution_count": null,
   "metadata": {},
   "outputs": [],
   "source": [
    "p1 = (ggplot(df_melt[df_melt.variable.str.startswith(\"ksw\")],\n",
    "             aes(x=\"duration\", y=\"water_erodibility\",\n",
    "                 fill=\"squared_residual\")) + geom_tile() +\n",
    "      geom_point(aes(x=truth_duration, y=truth_water_erodibility)) +\n",
    "      scale_fill_continuous(limits=[0.001, 1], trans=\"log10\") +\n",
    "      facet_wrap(\"~variable\") + theme_bw() + scale_x_log10() +\n",
    "      scale_y_log10() + coord_equal())\n",
    "print(p1)"
   ]
  },
  {
   "cell_type": "markdown",
   "metadata": {},
   "source": [
    "Finally we plot the three statistics that relate to the topographic elevation. "
   ]
  },
  {
   "cell_type": "code",
   "execution_count": null,
   "metadata": {},
   "outputs": [],
   "source": [
    "p2 = (\n",
    "    ggplot(df_melt[df_melt.variable.str.startswith(\"z\")],\n",
    "           aes(x=\"duration\", y=\"water_erodibility\", fill=\"squared_residual\")) +\n",
    "    geom_tile() + scale_fill_continuous(limits=[0.001, 1000], trans=\"log10\") +\n",
    "    geom_point(aes(x=truth_duration, y=truth_water_erodibility)) +\n",
    "    facet_wrap(\"~variable\") + theme_bw() + scale_x_log10() + scale_y_log10() +\n",
    "    coord_equal())\n",
    "print(p2)"
   ]
  },
  {
   "cell_type": "markdown",
   "metadata": {},
   "source": [
    "# Next steps\n",
    "\n",
    "The next step is the final notebook in the four part introductory series: [Part 4: Application using the Discretized Misfit calculation](DiscretizedMisfit.ipynb)."
   ]
  },
  {
   "cell_type": "code",
   "execution_count": null,
   "metadata": {},
   "outputs": [],
   "source": []
  }
 ],
 "metadata": {
  "kernelspec": {
   "display_name": "Python 3",
   "language": "python",
   "name": "python3"
  },
  "language_info": {
   "codemirror_mode": {
    "name": "ipython",
    "version": 3
   },
   "file_extension": ".py",
   "mimetype": "text/x-python",
   "name": "python",
   "nbconvert_exporter": "python",
   "pygments_lexer": "ipython3",
   "version": "3.7.3"
  }
 },
 "nbformat": 4,
 "nbformat_minor": 2
}
